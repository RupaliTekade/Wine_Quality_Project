{
 "cells": [
  {
   "cell_type": "code",
   "execution_count": 1,
   "id": "d5d32976",
   "metadata": {},
   "outputs": [],
   "source": [
    "import pandas as pd\n",
    "import numpy as np\n",
    "import matplotlib.pyplot as plt\n",
    "import seaborn as sns\n",
    "from sklearn.impute import KNNImputer"
   ]
  },
  {
   "cell_type": "code",
   "execution_count": 2,
   "id": "2fd627b7",
   "metadata": {},
   "outputs": [],
   "source": [
    "df = pd.read_csv(\"wine_data.csv\")"
   ]
  },
  {
   "cell_type": "code",
   "execution_count": 3,
   "id": "b33d5052",
   "metadata": {},
   "outputs": [
    {
     "data": {
      "text/plain": [
       "(array([17854., 18332., 18414., 18270., 18454.,  5406.,   577.,   617.,\n",
       "          598.,   478.]),\n",
       " array([ 4.00006644,  6.27458013,  8.54909382, 10.82360751, 13.0981212 ,\n",
       "        15.37263489, 17.64714858, 19.92166227, 22.19617596, 24.47068965,\n",
       "        26.74520334]),\n",
       " <BarContainer object of 10 artists>)"
      ]
     },
     "execution_count": 3,
     "metadata": {},
     "output_type": "execute_result"
    },
    {
     "data": {
      "image/png": "[encoded data removed]",
      "text/plain": [
       "<Figure size 640x480 with 1 Axes>"
      ]
     },
     "metadata": {},
     "output_type": "display_data"
    }
   ],
   "source": [
    "plt.hist(data= df,x=\"fixed_acidity\")"
   ]
  },
  {
   "cell_type": "code",
   "execution_count": 4,
   "id": "0b390917",
   "metadata": {},
   "outputs": [
    {
     "data": {
      "text/html": [
       "<div>\n",
       "<style scoped>\n",
       "    .dataframe tbody tr th:only-of-type {\n",
       "        vertical-align: middle;\n",
       "    }\n",
       "\n",
       "    .dataframe tbody tr th {\n",
       "        vertical-align: top;\n",
       "    }\n",
       "\n",
       "    .dataframe thead th {\n",
       "        text-align: right;\n",
       "    }\n",
       "</style>\n",
       "<table border=\"1\" class=\"dataframe\">\n",
       "  <thead>\n",
       "    <tr style=\"text-align: right;\">\n",
       "      <th></th>\n",
       "      <th>Unnamed: 0</th>\n",
       "      <th>fixed_acidity</th>\n",
       "      <th>volatile_acidity</th>\n",
       "      <th>citric_acid</th>\n",
       "      <th>residual_sugar</th>\n",
       "      <th>chlorides</th>\n",
       "      <th>free_sulfur_dioxide</th>\n",
       "      <th>total_sulfur_dioxide</th>\n",
       "      <th>density</th>\n",
       "      <th>pH</th>\n",
       "      <th>sulphates</th>\n",
       "      <th>color</th>\n",
       "      <th>region</th>\n",
       "      <th>grape_variety</th>\n",
       "      <th>vintage_year</th>\n",
       "      <th>quality</th>\n",
       "    </tr>\n",
       "  </thead>\n",
       "  <tbody>\n",
       "    <tr>\n",
       "      <th>8640</th>\n",
       "      <td>8643</td>\n",
       "      <td>9.431372</td>\n",
       "      <td>0.519587</td>\n",
       "      <td>0.624173</td>\n",
       "      <td>14.871429</td>\n",
       "      <td>0.259921</td>\n",
       "      <td>31.248721</td>\n",
       "      <td>38.780723</td>\n",
       "      <td>0.991228</td>\n",
       "      <td>2.839766</td>\n",
       "      <td>1.914511</td>\n",
       "      <td>red</td>\n",
       "      <td>Bordeaux</td>\n",
       "      <td>Syrah</td>\n",
       "      <td>2020</td>\n",
       "      <td>high</td>\n",
       "    </tr>\n",
       "    <tr>\n",
       "      <th>43504</th>\n",
       "      <td>43703</td>\n",
       "      <td>14.024348</td>\n",
       "      <td>0.698998</td>\n",
       "      <td>0.985592</td>\n",
       "      <td>2.529963</td>\n",
       "      <td>0.186108</td>\n",
       "      <td>63.025228</td>\n",
       "      <td>104.578103</td>\n",
       "      <td>0.991683</td>\n",
       "      <td>3.743433</td>\n",
       "      <td>1.206525</td>\n",
       "      <td>White</td>\n",
       "      <td>Bordeaux</td>\n",
       "      <td>Chardonnay</td>\n",
       "      <td>2019</td>\n",
       "      <td>medium</td>\n",
       "    </tr>\n",
       "    <tr>\n",
       "      <th>45248</th>\n",
       "      <td>45461</td>\n",
       "      <td>9.517698</td>\n",
       "      <td>0.618184</td>\n",
       "      <td>0.647325</td>\n",
       "      <td>6.391407</td>\n",
       "      <td>0.526429</td>\n",
       "      <td>30.324016</td>\n",
       "      <td>95.951473</td>\n",
       "      <td>0.998212</td>\n",
       "      <td>3.952592</td>\n",
       "      <td>0.626709</td>\n",
       "      <td>white</td>\n",
       "      <td>Napa Valley</td>\n",
       "      <td>Cabernet Sauvignon</td>\n",
       "      <td>2020</td>\n",
       "      <td>low</td>\n",
       "    </tr>\n",
       "    <tr>\n",
       "      <th>57544</th>\n",
       "      <td>57867</td>\n",
       "      <td>7.548745</td>\n",
       "      <td>0.849506</td>\n",
       "      <td>0.926681</td>\n",
       "      <td>14.081048</td>\n",
       "      <td>0.529323</td>\n",
       "      <td>1.340966</td>\n",
       "      <td>201.275531</td>\n",
       "      <td>0.995905</td>\n",
       "      <td>3.859448</td>\n",
       "      <td>0.970396</td>\n",
       "      <td>Red</td>\n",
       "      <td>Bordeaux</td>\n",
       "      <td>cabernet</td>\n",
       "      <td>2017</td>\n",
       "      <td>medium</td>\n",
       "    </tr>\n",
       "    <tr>\n",
       "      <th>51227</th>\n",
       "      <td>51482</td>\n",
       "      <td>14.739109</td>\n",
       "      <td>0.568231</td>\n",
       "      <td>0.916242</td>\n",
       "      <td>6.438584</td>\n",
       "      <td>0.440859</td>\n",
       "      <td>43.608896</td>\n",
       "      <td>225.387650</td>\n",
       "      <td>0.992897</td>\n",
       "      <td>2.900471</td>\n",
       "      <td>0.883753</td>\n",
       "      <td>white</td>\n",
       "      <td>bordeaux</td>\n",
       "      <td>Pinot Noir</td>\n",
       "      <td>2020</td>\n",
       "      <td>high</td>\n",
       "    </tr>\n",
       "    <tr>\n",
       "      <th>22934</th>\n",
       "      <td>22984</td>\n",
       "      <td>7.785044</td>\n",
       "      <td>0.675822</td>\n",
       "      <td>0.539822</td>\n",
       "      <td>7.303377</td>\n",
       "      <td>0.244708</td>\n",
       "      <td>30.372068</td>\n",
       "      <td>86.237908</td>\n",
       "      <td>0.995536</td>\n",
       "      <td>3.172488</td>\n",
       "      <td>1.494822</td>\n",
       "      <td>white</td>\n",
       "      <td>Bordeaux</td>\n",
       "      <td>Pinot Noir</td>\n",
       "      <td>2019</td>\n",
       "      <td>low</td>\n",
       "    </tr>\n",
       "    <tr>\n",
       "      <th>55437</th>\n",
       "      <td>55742</td>\n",
       "      <td>8.188385</td>\n",
       "      <td>0.720247</td>\n",
       "      <td>0.893261</td>\n",
       "      <td>6.502821</td>\n",
       "      <td>0.040939</td>\n",
       "      <td>66.438388</td>\n",
       "      <td>196.260974</td>\n",
       "      <td>0.993267</td>\n",
       "      <td>2.823004</td>\n",
       "      <td>0.750682</td>\n",
       "      <td>White</td>\n",
       "      <td>Tuscany</td>\n",
       "      <td>Chardonnay</td>\n",
       "      <td>2017</td>\n",
       "      <td>medium</td>\n",
       "    </tr>\n",
       "    <tr>\n",
       "      <th>35863</th>\n",
       "      <td>35991</td>\n",
       "      <td>12.009859</td>\n",
       "      <td>1.033866</td>\n",
       "      <td>0.334174</td>\n",
       "      <td>6.229351</td>\n",
       "      <td>0.397499</td>\n",
       "      <td>27.846233</td>\n",
       "      <td>174.559857</td>\n",
       "      <td>0.996943</td>\n",
       "      <td>3.129247</td>\n",
       "      <td>1.084838</td>\n",
       "      <td>Red</td>\n",
       "      <td>Tuscany</td>\n",
       "      <td>Cabernet Sauvignon</td>\n",
       "      <td>2020</td>\n",
       "      <td>high</td>\n",
       "    </tr>\n",
       "    <tr>\n",
       "      <th>71809</th>\n",
       "      <td>72341</td>\n",
       "      <td>22.818122</td>\n",
       "      <td>0.859043</td>\n",
       "      <td>0.937960</td>\n",
       "      <td>3.216684</td>\n",
       "      <td>0.528259</td>\n",
       "      <td>16.619226</td>\n",
       "      <td>123.233520</td>\n",
       "      <td>0.992464</td>\n",
       "      <td>3.617204</td>\n",
       "      <td>1.961508</td>\n",
       "      <td>white</td>\n",
       "      <td>Bordeaux</td>\n",
       "      <td>Cabernet Sauvignon</td>\n",
       "      <td>2020</td>\n",
       "      <td>medium</td>\n",
       "    </tr>\n",
       "    <tr>\n",
       "      <th>51992</th>\n",
       "      <td>52260</td>\n",
       "      <td>6.645684</td>\n",
       "      <td>0.977145</td>\n",
       "      <td>0.994691</td>\n",
       "      <td>7.405272</td>\n",
       "      <td>0.458757</td>\n",
       "      <td>2.663722</td>\n",
       "      <td>123.210822</td>\n",
       "      <td>0.997579</td>\n",
       "      <td>3.887530</td>\n",
       "      <td>1.316613</td>\n",
       "      <td>red</td>\n",
       "      <td>Napa Valley</td>\n",
       "      <td>Pinot Noir</td>\n",
       "      <td>2020</td>\n",
       "      <td>high</td>\n",
       "    </tr>\n",
       "    <tr>\n",
       "      <th>50817</th>\n",
       "      <td>51071</td>\n",
       "      <td>13.427603</td>\n",
       "      <td>0.558003</td>\n",
       "      <td>0.855756</td>\n",
       "      <td>8.407844</td>\n",
       "      <td>0.326315</td>\n",
       "      <td>18.003527</td>\n",
       "      <td>238.257695</td>\n",
       "      <td>1.004456</td>\n",
       "      <td>2.820577</td>\n",
       "      <td>1.386237</td>\n",
       "      <td>white</td>\n",
       "      <td>Napa Valley</td>\n",
       "      <td>Syrah</td>\n",
       "      <td>2020</td>\n",
       "      <td>medium</td>\n",
       "    </tr>\n",
       "    <tr>\n",
       "      <th>60802</th>\n",
       "      <td>61170</td>\n",
       "      <td>7.915306</td>\n",
       "      <td>0.351088</td>\n",
       "      <td>0.650662</td>\n",
       "      <td>11.181335</td>\n",
       "      <td>0.471923</td>\n",
       "      <td>20.425404</td>\n",
       "      <td>262.554275</td>\n",
       "      <td>0.995810</td>\n",
       "      <td>3.015735</td>\n",
       "      <td>0.543162</td>\n",
       "      <td>WHITE</td>\n",
       "      <td>Tuscany</td>\n",
       "      <td>Cabernet Sauvignon</td>\n",
       "      <td>2018</td>\n",
       "      <td>medium</td>\n",
       "    </tr>\n",
       "    <tr>\n",
       "      <th>74310</th>\n",
       "      <td>74879</td>\n",
       "      <td>11.523987</td>\n",
       "      <td>0.206124</td>\n",
       "      <td>0.944282</td>\n",
       "      <td>3.384279</td>\n",
       "      <td>0.033103</td>\n",
       "      <td>43.331725</td>\n",
       "      <td>299.807650</td>\n",
       "      <td>1.000533</td>\n",
       "      <td>3.265962</td>\n",
       "      <td>1.990964</td>\n",
       "      <td>white</td>\n",
       "      <td>Napa Valley</td>\n",
       "      <td>Syrah</td>\n",
       "      <td>2019</td>\n",
       "      <td>medium</td>\n",
       "    </tr>\n",
       "    <tr>\n",
       "      <th>50217</th>\n",
       "      <td>50468</td>\n",
       "      <td>12.880431</td>\n",
       "      <td>0.216497</td>\n",
       "      <td>0.521245</td>\n",
       "      <td>12.450533</td>\n",
       "      <td>0.128085</td>\n",
       "      <td>17.358121</td>\n",
       "      <td>286.695914</td>\n",
       "      <td>1.001785</td>\n",
       "      <td>3.977711</td>\n",
       "      <td>1.093335</td>\n",
       "      <td>WHITE</td>\n",
       "      <td>napa</td>\n",
       "      <td>Chardonnay</td>\n",
       "      <td>2020</td>\n",
       "      <td>high</td>\n",
       "    </tr>\n",
       "    <tr>\n",
       "      <th>91898</th>\n",
       "      <td>92755</td>\n",
       "      <td>9.656047</td>\n",
       "      <td>1.007995</td>\n",
       "      <td>0.234787</td>\n",
       "      <td>14.037469</td>\n",
       "      <td>0.054126</td>\n",
       "      <td>60.108943</td>\n",
       "      <td>184.330536</td>\n",
       "      <td>1.000997</td>\n",
       "      <td>2.883446</td>\n",
       "      <td>1.185268</td>\n",
       "      <td>white</td>\n",
       "      <td>NaN</td>\n",
       "      <td>Pinot Noir</td>\n",
       "      <td>2017</td>\n",
       "      <td>medium</td>\n",
       "    </tr>\n",
       "    <tr>\n",
       "      <th>11236</th>\n",
       "      <td>11243</td>\n",
       "      <td>7.585214</td>\n",
       "      <td>0.604121</td>\n",
       "      <td>0.881192</td>\n",
       "      <td>2.895067</td>\n",
       "      <td>0.226309</td>\n",
       "      <td>24.350498</td>\n",
       "      <td>42.901244</td>\n",
       "      <td>0.990457</td>\n",
       "      <td>3.477705</td>\n",
       "      <td>0.966970</td>\n",
       "      <td>White</td>\n",
       "      <td>Bordeaux</td>\n",
       "      <td>Cabernet Sauvignon</td>\n",
       "      <td>2020</td>\n",
       "      <td>medium</td>\n",
       "    </tr>\n",
       "    <tr>\n",
       "      <th>11834</th>\n",
       "      <td>11844</td>\n",
       "      <td>12.030606</td>\n",
       "      <td>0.840274</td>\n",
       "      <td>0.210706</td>\n",
       "      <td>7.841025</td>\n",
       "      <td>0.264337</td>\n",
       "      <td>7.840783</td>\n",
       "      <td>85.213549</td>\n",
       "      <td>0.994548</td>\n",
       "      <td>3.851620</td>\n",
       "      <td>1.019617</td>\n",
       "      <td>red</td>\n",
       "      <td>Bordeaux</td>\n",
       "      <td>Cabernet Sauvignon</td>\n",
       "      <td>2015</td>\n",
       "      <td>medium</td>\n",
       "    </tr>\n",
       "    <tr>\n",
       "      <th>45757</th>\n",
       "      <td>45974</td>\n",
       "      <td>14.550452</td>\n",
       "      <td>0.545740</td>\n",
       "      <td>0.357030</td>\n",
       "      <td>1.232467</td>\n",
       "      <td>0.224701</td>\n",
       "      <td>30.317168</td>\n",
       "      <td>174.106647</td>\n",
       "      <td>1.001862</td>\n",
       "      <td>2.981062</td>\n",
       "      <td>0.570411</td>\n",
       "      <td>RED</td>\n",
       "      <td>Bordeaux</td>\n",
       "      <td>Chardonnay</td>\n",
       "      <td>2019</td>\n",
       "      <td>medium</td>\n",
       "    </tr>\n",
       "    <tr>\n",
       "      <th>50022</th>\n",
       "      <td>50270</td>\n",
       "      <td>5.866019</td>\n",
       "      <td>0.769861</td>\n",
       "      <td>0.237214</td>\n",
       "      <td>10.448567</td>\n",
       "      <td>0.559755</td>\n",
       "      <td>52.174381</td>\n",
       "      <td>130.774398</td>\n",
       "      <td>0.994371</td>\n",
       "      <td>3.917767</td>\n",
       "      <td>1.270712</td>\n",
       "      <td>RED</td>\n",
       "      <td>napa</td>\n",
       "      <td>Merlot</td>\n",
       "      <td>2020</td>\n",
       "      <td>low</td>\n",
       "    </tr>\n",
       "    <tr>\n",
       "      <th>66548</th>\n",
       "      <td>66997</td>\n",
       "      <td>4.627316</td>\n",
       "      <td>1.313005</td>\n",
       "      <td>0.421241</td>\n",
       "      <td>6.300400</td>\n",
       "      <td>0.346946</td>\n",
       "      <td>38.993922</td>\n",
       "      <td>19.045495</td>\n",
       "      <td>0.992810</td>\n",
       "      <td>3.466250</td>\n",
       "      <td>0.701552</td>\n",
       "      <td>Red</td>\n",
       "      <td>Bordeaux</td>\n",
       "      <td>Syrah</td>\n",
       "      <td>2020</td>\n",
       "      <td>medium</td>\n",
       "    </tr>\n",
       "    <tr>\n",
       "      <th>95019</th>\n",
       "      <td>95923</td>\n",
       "      <td>10.708813</td>\n",
       "      <td>0.114198</td>\n",
       "      <td>0.487094</td>\n",
       "      <td>9.022665</td>\n",
       "      <td>0.015179</td>\n",
       "      <td>10.658746</td>\n",
       "      <td>167.517554</td>\n",
       "      <td>0.996630</td>\n",
       "      <td>2.841411</td>\n",
       "      <td>0.341934</td>\n",
       "      <td>white</td>\n",
       "      <td>Bordeaux</td>\n",
       "      <td>cabernet</td>\n",
       "      <td>2017</td>\n",
       "      <td>medium</td>\n",
       "    </tr>\n",
       "    <tr>\n",
       "      <th>64105</th>\n",
       "      <td>64519</td>\n",
       "      <td>7.671025</td>\n",
       "      <td>0.469734</td>\n",
       "      <td>0.739577</td>\n",
       "      <td>10.796398</td>\n",
       "      <td>0.161006</td>\n",
       "      <td>55.975576</td>\n",
       "      <td>254.908864</td>\n",
       "      <td>1.004874</td>\n",
       "      <td>3.918593</td>\n",
       "      <td>1.254805</td>\n",
       "      <td>red</td>\n",
       "      <td>Tuscany</td>\n",
       "      <td>Cabernet Sauvignon</td>\n",
       "      <td>2015</td>\n",
       "      <td>low</td>\n",
       "    </tr>\n",
       "    <tr>\n",
       "      <th>55807</th>\n",
       "      <td>56116</td>\n",
       "      <td>7.877910</td>\n",
       "      <td>1.139731</td>\n",
       "      <td>0.390775</td>\n",
       "      <td>10.378050</td>\n",
       "      <td>0.055200</td>\n",
       "      <td>49.056126</td>\n",
       "      <td>269.625494</td>\n",
       "      <td>1.000325</td>\n",
       "      <td>3.357487</td>\n",
       "      <td>0.627469</td>\n",
       "      <td>white</td>\n",
       "      <td>Napa Valley</td>\n",
       "      <td>Syrah</td>\n",
       "      <td>2019</td>\n",
       "      <td>medium</td>\n",
       "    </tr>\n",
       "    <tr>\n",
       "      <th>59096</th>\n",
       "      <td>59443</td>\n",
       "      <td>6.071030</td>\n",
       "      <td>0.344233</td>\n",
       "      <td>0.012664</td>\n",
       "      <td>11.382526</td>\n",
       "      <td>0.278782</td>\n",
       "      <td>17.980756</td>\n",
       "      <td>54.846923</td>\n",
       "      <td>0.996310</td>\n",
       "      <td>3.049880</td>\n",
       "      <td>1.573272</td>\n",
       "      <td>WHITE</td>\n",
       "      <td>bordeaux</td>\n",
       "      <td>Pinot Noir</td>\n",
       "      <td>2020</td>\n",
       "      <td>medium</td>\n",
       "    </tr>\n",
       "    <tr>\n",
       "      <th>30302</th>\n",
       "      <td>30389</td>\n",
       "      <td>4.675522</td>\n",
       "      <td>0.205592</td>\n",
       "      <td>0.162380</td>\n",
       "      <td>9.480537</td>\n",
       "      <td>0.404355</td>\n",
       "      <td>48.871395</td>\n",
       "      <td>74.130420</td>\n",
       "      <td>0.991968</td>\n",
       "      <td>2.872202</td>\n",
       "      <td>1.641880</td>\n",
       "      <td>Red</td>\n",
       "      <td>Tuscany</td>\n",
       "      <td>Cabernet Sauvignon</td>\n",
       "      <td>2020</td>\n",
       "      <td>medium</td>\n",
       "    </tr>\n",
       "  </tbody>\n",
       "</table>\n",
       "</div>"
      ],
      "text/plain": [
       "       Unnamed: 0  fixed_acidity  volatile_acidity  citric_acid  \\\n",
       "8640         8643       9.431372          0.519587     0.624173   \n",
       "43504       43703      14.024348          0.698998     0.985592   \n",
       "45248       45461       9.517698          0.618184     0.647325   \n",
       "57544       57867       7.548745          0.849506     0.926681   \n",
       "51227       51482      14.739109          0.568231     0.916242   \n",
       "22934       22984       7.785044          0.675822     0.539822   \n",
       "55437       55742       8.188385          0.720247     0.893261   \n",
       "35863       35991      12.009859          1.033866     0.334174   \n",
       "71809       72341      22.818122          0.859043     0.937960   \n",
       "51992       52260       6.645684          0.977145     0.994691   \n",
       "50817       51071      13.427603          0.558003     0.855756   \n",
       "60802       61170       7.915306          0.351088     0.650662   \n",
       "74310       74879      11.523987          0.206124     0.944282   \n",
       "50217       50468      12.880431          0.216497     0.521245   \n",
       "91898       92755       9.656047          1.007995     0.234787   \n",
       "11236       11243       7.585214          0.604121     0.881192   \n",
       "11834       11844      12.030606          0.840274     0.210706   \n",
       "45757       45974      14.550452          0.545740     0.357030   \n",
       "50022       50270       5.866019          0.769861     0.237214   \n",
       "66548       66997       4.627316          1.313005     0.421241   \n",
       "95019       95923      10.708813          0.114198     0.487094   \n",
       "64105       64519       7.671025          0.469734     0.739577   \n",
       "55807       56116       7.877910          1.139731     0.390775   \n",
       "59096       59443       6.071030          0.344233     0.012664   \n",
       "30302       30389       4.675522          0.205592     0.162380   \n",
       "\n",
       "       residual_sugar  chlorides  free_sulfur_dioxide  total_sulfur_dioxide  \\\n",
       "8640        14.871429   0.259921            31.248721             38.780723   \n",
       "43504        2.529963   0.186108            63.025228            104.578103   \n",
       "45248        6.391407   0.526429            30.324016             95.951473   \n",
       "57544       14.081048   0.529323             1.340966            201.275531   \n",
       "51227        6.438584   0.440859            43.608896            225.387650   \n",
       "22934        7.303377   0.244708            30.372068             86.237908   \n",
       "55437        6.502821   0.040939            66.438388            196.260974   \n",
       "35863        6.229351   0.397499            27.846233            174.559857   \n",
       "71809        3.216684   0.528259            16.619226            123.233520   \n",
       "51992        7.405272   0.458757             2.663722            123.210822   \n",
       "50817        8.407844   0.326315            18.003527            238.257695   \n",
       "60802       11.181335   0.471923            20.425404            262.554275   \n",
       "74310        3.384279   0.033103            43.331725            299.807650   \n",
       "50217       12.450533   0.128085            17.358121            286.695914   \n",
       "91898       14.037469   0.054126            60.108943            184.330536   \n",
       "11236        2.895067   0.226309            24.350498             42.901244   \n",
       "11834        7.841025   0.264337             7.840783             85.213549   \n",
       "45757        1.232467   0.224701            30.317168            174.106647   \n",
       "50022       10.448567   0.559755            52.174381            130.774398   \n",
       "66548        6.300400   0.346946            38.993922             19.045495   \n",
       "95019        9.022665   0.015179            10.658746            167.517554   \n",
       "64105       10.796398   0.161006            55.975576            254.908864   \n",
       "55807       10.378050   0.055200            49.056126            269.625494   \n",
       "59096       11.382526   0.278782            17.980756             54.846923   \n",
       "30302        9.480537   0.404355            48.871395             74.130420   \n",
       "\n",
       "        density        pH  sulphates  color       region       grape_variety  \\\n",
       "8640   0.991228  2.839766   1.914511    red     Bordeaux               Syrah   \n",
       "43504  0.991683  3.743433   1.206525  White     Bordeaux          Chardonnay   \n",
       "45248  0.998212  3.952592   0.626709  white  Napa Valley  Cabernet Sauvignon   \n",
       "57544  0.995905  3.859448   0.970396    Red     Bordeaux            cabernet   \n",
       "51227  0.992897  2.900471   0.883753  white     bordeaux          Pinot Noir   \n",
       "22934  0.995536  3.172488   1.494822  white     Bordeaux          Pinot Noir   \n",
       "55437  0.993267  2.823004   0.750682  White      Tuscany          Chardonnay   \n",
       "35863  0.996943  3.129247   1.084838    Red      Tuscany  Cabernet Sauvignon   \n",
       "71809  0.992464  3.617204   1.961508  white     Bordeaux  Cabernet Sauvignon   \n",
       "51992  0.997579  3.887530   1.316613    red  Napa Valley          Pinot Noir   \n",
       "50817  1.004456  2.820577   1.386237  white  Napa Valley               Syrah   \n",
       "60802  0.995810  3.015735   0.543162  WHITE      Tuscany  Cabernet Sauvignon   \n",
       "74310  1.000533  3.265962   1.990964  white  Napa Valley               Syrah   \n",
       "50217  1.001785  3.977711   1.093335  WHITE         napa          Chardonnay   \n",
       "91898  1.000997  2.883446   1.185268  white          NaN          Pinot Noir   \n",
       "11236  0.990457  3.477705   0.966970  White     Bordeaux  Cabernet Sauvignon   \n",
       "11834  0.994548  3.851620   1.019617    red     Bordeaux  Cabernet Sauvignon   \n",
       "45757  1.001862  2.981062   0.570411    RED     Bordeaux          Chardonnay   \n",
       "50022  0.994371  3.917767   1.270712    RED         napa              Merlot   \n",
       "66548  0.992810  3.466250   0.701552    Red     Bordeaux               Syrah   \n",
       "95019  0.996630  2.841411   0.341934  white     Bordeaux            cabernet   \n",
       "64105  1.004874  3.918593   1.254805    red      Tuscany  Cabernet Sauvignon   \n",
       "55807  1.000325  3.357487   0.627469  white  Napa Valley               Syrah   \n",
       "59096  0.996310  3.049880   1.573272  WHITE     bordeaux          Pinot Noir   \n",
       "30302  0.991968  2.872202   1.641880    Red      Tuscany  Cabernet Sauvignon   \n",
       "\n",
       "       vintage_year quality  \n",
       "8640           2020    high  \n",
       "43504          2019  medium  \n",
       "45248          2020     low  \n",
       "57544          2017  medium  \n",
       "51227          2020    high  \n",
       "22934          2019     low  \n",
       "55437          2017  medium  \n",
       "35863          2020    high  \n",
       "71809          2020  medium  \n",
       "51992          2020    high  \n",
       "50817          2020  medium  \n",
       "60802          2018  medium  \n",
       "74310          2019  medium  \n",
       "50217          2020    high  \n",
       "91898          2017  medium  \n",
       "11236          2020  medium  \n",
       "11834          2015  medium  \n",
       "45757          2019  medium  \n",
       "50022          2020     low  \n",
       "66548          2020  medium  \n",
       "95019          2017  medium  \n",
       "64105          2015     low  \n",
       "55807          2019  medium  \n",
       "59096          2020  medium  \n",
       "30302          2020  medium  "
      ]
     },
     "execution_count": 4,
     "metadata": {},
     "output_type": "execute_result"
    }
   ],
   "source": [
    "df.sample(25)"
   ]
  },
  {
   "cell_type": "code",
   "execution_count": 5,
   "id": "ecaafda5",
   "metadata": {},
   "outputs": [
    {
     "name": "stdout",
     "output_type": "stream",
     "text": [
      "<class 'pandas.core.frame.DataFrame'>\n",
      "RangeIndex: 100000 entries, 0 to 99999\n",
      "Data columns (total 16 columns):\n",
      " #   Column                Non-Null Count   Dtype  \n",
      "---  ------                --------------   -----  \n",
      " 0   Unnamed: 0            100000 non-null  int64  \n",
      " 1   fixed_acidity         99000 non-null   float64\n",
      " 2   volatile_acidity      99000 non-null   float64\n",
      " 3   citric_acid           100000 non-null  float64\n",
      " 4   residual_sugar        100000 non-null  float64\n",
      " 5   chlorides             100000 non-null  float64\n",
      " 6   free_sulfur_dioxide   100000 non-null  float64\n",
      " 7   total_sulfur_dioxide  100000 non-null  float64\n",
      " 8   density               100000 non-null  float64\n",
      " 9   pH                    100000 non-null  float64\n",
      " 10  sulphates             100000 non-null  float64\n",
      " 11  color                 99000 non-null   object \n",
      " 12  region                99000 non-null   object \n",
      " 13  grape_variety         100000 non-null  object \n",
      " 14  vintage_year          100000 non-null  int64  \n",
      " 15  quality               100000 non-null  object \n",
      "dtypes: float64(10), int64(2), object(4)\n",
      "memory usage: 12.2+ MB\n"
     ]
    }
   ],
   "source": [
    "df.info()"
   ]
  },
  {
   "cell_type": "code",
   "execution_count": 6,
   "id": "d83aa696",
   "metadata": {},
   "outputs": [
    {
     "data": {
      "text/plain": [
       "Unnamed: 0                 0\n",
       "fixed_acidity           1000\n",
       "volatile_acidity        1000\n",
       "citric_acid                0\n",
       "residual_sugar             0\n",
       "chlorides                  0\n",
       "free_sulfur_dioxide        0\n",
       "total_sulfur_dioxide       0\n",
       "density                    0\n",
       "pH                         0\n",
       "sulphates                  0\n",
       "color                   1000\n",
       "region                  1000\n",
       "grape_variety              0\n",
       "vintage_year               0\n",
       "quality                    0\n",
       "dtype: int64"
      ]
     },
     "execution_count": 6,
     "metadata": {},
     "output_type": "execute_result"
    }
   ],
   "source": [
    "df.isnull().sum()"
   ]
  },
  {
   "cell_type": "code",
   "execution_count": 10,
   "id": "9ed9f297",
   "metadata": {},
   "outputs": [
    {
     "data": {
      "text/html": [
       "<div>\n",
       "<style scoped>\n",
       "    .dataframe tbody tr th:only-of-type {\n",
       "        vertical-align: middle;\n",
       "    }\n",
       "\n",
       "    .dataframe tbody tr th {\n",
       "        vertical-align: top;\n",
       "    }\n",
       "\n",
       "    .dataframe thead th {\n",
       "        text-align: right;\n",
       "    }\n",
       "</style>\n",
       "<table border=\"1\" class=\"dataframe\">\n",
       "  <thead>\n",
       "    <tr style=\"text-align: right;\">\n",
       "      <th></th>\n",
       "      <th>fixed_acidity</th>\n",
       "      <th>volatile_acidity</th>\n",
       "    </tr>\n",
       "  </thead>\n",
       "  <tbody>\n",
       "    <tr>\n",
       "      <th>0</th>\n",
       "      <td>9.545971</td>\n",
       "      <td>1.119034</td>\n",
       "    </tr>\n",
       "    <tr>\n",
       "      <th>1</th>\n",
       "      <td>10.507966</td>\n",
       "      <td>0.432228</td>\n",
       "    </tr>\n",
       "    <tr>\n",
       "      <th>2</th>\n",
       "      <td>7.353309</td>\n",
       "      <td>1.073555</td>\n",
       "    </tr>\n",
       "    <tr>\n",
       "      <th>3</th>\n",
       "      <td>4.632620</td>\n",
       "      <td>0.520863</td>\n",
       "    </tr>\n",
       "    <tr>\n",
       "      <th>4</th>\n",
       "      <td>4.971561</td>\n",
       "      <td>0.703143</td>\n",
       "    </tr>\n",
       "    <tr>\n",
       "      <th>...</th>\n",
       "      <td>...</td>\n",
       "      <td>...</td>\n",
       "    </tr>\n",
       "    <tr>\n",
       "      <th>99995</th>\n",
       "      <td>7.232601</td>\n",
       "      <td>0.608386</td>\n",
       "    </tr>\n",
       "    <tr>\n",
       "      <th>99996</th>\n",
       "      <td>5.129761</td>\n",
       "      <td>0.359503</td>\n",
       "    </tr>\n",
       "    <tr>\n",
       "      <th>99997</th>\n",
       "      <td>13.127022</td>\n",
       "      <td>0.175020</td>\n",
       "    </tr>\n",
       "    <tr>\n",
       "      <th>99998</th>\n",
       "      <td>13.377078</td>\n",
       "      <td>0.726480</td>\n",
       "    </tr>\n",
       "    <tr>\n",
       "      <th>99999</th>\n",
       "      <td>11.004931</td>\n",
       "      <td>1.217829</td>\n",
       "    </tr>\n",
       "  </tbody>\n",
       "</table>\n",
       "<p>100000 rows × 2 columns</p>\n",
       "</div>"
      ],
      "text/plain": [
       "       fixed_acidity  volatile_acidity\n",
       "0           9.545971          1.119034\n",
       "1          10.507966          0.432228\n",
       "2           7.353309          1.073555\n",
       "3           4.632620          0.520863\n",
       "4           4.971561          0.703143\n",
       "...              ...               ...\n",
       "99995       7.232601          0.608386\n",
       "99996       5.129761          0.359503\n",
       "99997      13.127022          0.175020\n",
       "99998      13.377078          0.726480\n",
       "99999      11.004931          1.217829\n",
       "\n",
       "[100000 rows x 2 columns]"
      ]
     },
     "execution_count": 10,
     "metadata": {},
     "output_type": "execute_result"
    }
   ],
   "source": [
    "numeric_null = df[[\"fixed_acidity\",\"volatile_acidity\"]]\n",
    "numeric_null"
   ]
  },
  {
   "cell_type": "code",
   "execution_count": 19,
   "id": "37a49f27",
   "metadata": {},
   "outputs": [],
   "source": [
    "imputer = KNNImputer(n_neighbors=3, weights='distance')\n",
    "\n",
    "\n",
    "a= imputer.fit_transform(numeric_null)\n",
    "df1=pd.DataFrame(a,columns=numeric_null.columns)"
   ]
  },
  {
   "cell_type": "code",
   "execution_count": 14,
   "id": "de55847b",
   "metadata": {},
   "outputs": [
    {
     "data": {
      "text/plain": [
       "<Axes: ylabel='Frequency'>"
      ]
     },
     "execution_count": 14,
     "metadata": {},
     "output_type": "execute_result"
    },
    {
     "data": {
      "image/png": "[encoded data removed]",
      "text/plain": [
       "<Figure size 640x480 with 1 Axes>"
      ]
     },
     "metadata": {},
     "output_type": "display_data"
    }
   ],
   "source": [
    "pd.DataFrame(a,columns=numeric_null.columns)['volatile_acidity'].plot(kind='hist')"
   ]
  },
  {
   "cell_type": "code",
   "execution_count": 20,
   "id": "4cd64612",
   "metadata": {},
   "outputs": [],
   "source": [
    "df[\"fixed_acidity\"] = df1[\"fixed_acidity\"]"
   ]
  },
  {
   "cell_type": "code",
   "execution_count": 23,
   "id": "29e475de",
   "metadata": {},
   "outputs": [],
   "source": [
    "df['volatile_acidity']  = df1[\"volatile_acidity\"]"
   ]
  },
  {
   "cell_type": "code",
   "execution_count": 24,
   "id": "397dbf41",
   "metadata": {},
   "outputs": [
    {
     "data": {
      "text/plain": [
       "array(['Bordeaux', 'Rioja', 'Tuscany', 'Napa Valley', 'napa', 'bordeaux',\n",
       "       nan], dtype=object)"
      ]
     },
     "execution_count": 24,
     "metadata": {},
     "output_type": "execute_result"
    }
   ],
   "source": [
    "df[\"region\"].unique()"
   ]
  },
  {
   "cell_type": "code",
   "execution_count": 28,
   "id": "346f7e20",
   "metadata": {},
   "outputs": [
    {
     "data": {
      "text/plain": [
       "<Axes: xlabel='region'>"
      ]
     },
     "execution_count": 28,
     "metadata": {},
     "output_type": "execute_result"
    },
    {
     "data": {
      "image/png": "[encoded data removed]",
      "text/plain": [
       "<Figure size 640x480 with 1 Axes>"
      ]
     },
     "metadata": {},
     "output_type": "display_data"
    }
   ],
   "source": [
    "df[\"region\"].value_counts().plot(kind=\"bar\")"
   ]
  },
  {
   "cell_type": "code",
   "execution_count": 29,
   "id": "51f0483d",
   "metadata": {},
   "outputs": [],
   "source": [
    "df[\"region\"] = df[\"region\"].str.strip().str.title()\n",
    "\n",
    "df[\"region\"] = df[\"region\"].replace({\n",
    "    \"Napa Valley\" : \"Napa\"\n",
    "})"
   ]
  },
  {
   "cell_type": "code",
   "execution_count": 30,
   "id": "4d05829f",
   "metadata": {},
   "outputs": [
    {
     "data": {
      "text/plain": [
       "<Axes: xlabel='region'>"
      ]
     },
     "execution_count": 30,
     "metadata": {},
     "output_type": "execute_result"
    },
    {
     "data": {
      "image/png": "[encoded data removed]",
      "text/plain": [
       "<Figure size 640x480 with 1 Axes>"
      ]
     },
     "metadata": {},
     "output_type": "display_data"
    }
   ],
   "source": [
    "df[\"region\"].value_counts().plot(kind=\"bar\")"
   ]
  },
  {
   "cell_type": "code",
   "execution_count": null,
   "id": "97d6375a",
   "metadata": {},
   "outputs": [
    {
     "data": {
      "text/plain": [
       "array(['Bordeaux', 'Rioja', 'Tuscany', 'Napa', nan], dtype=object)"
      ]
     },
     "execution_count": 66,
     "metadata": {},
     "output_type": "execute_result"
    }
   ],
   "source": [
    "df[\"region\"].unique()"
   ]
  },
  {
   "cell_type": "code",
   "execution_count": null,
   "id": "c797a593",
   "metadata": {},
   "outputs": [
    {
     "data": {
      "text/plain": [
       "array(['red', 'White', 'Red', nan, 'white', 'RED', 'WHITE'], dtype=object)"
      ]
     },
     "execution_count": 67,
     "metadata": {},
     "output_type": "execute_result"
    }
   ],
   "source": [
    "df[\"color\"].unique()"
   ]
  },
  {
   "cell_type": "code",
   "execution_count": null,
   "id": "6d4e1677",
   "metadata": {},
   "outputs": [],
   "source": [
    "df[\"color\"] = df[\"color\"].str.strip().str.title()"
   ]
  },
  {
   "cell_type": "code",
   "execution_count": null,
   "id": "97f8348a",
   "metadata": {},
   "outputs": [
    {
     "data": {
      "text/plain": [
       "array(['Red', 'White', nan], dtype=object)"
      ]
     },
     "execution_count": 69,
     "metadata": {},
     "output_type": "execute_result"
    }
   ],
   "source": [
    "df[\"color\"].unique()"
   ]
  },
  {
   "cell_type": "code",
   "execution_count": 31,
   "id": "6d8d9fc3",
   "metadata": {},
   "outputs": [
    {
     "name": "stderr",
     "output_type": "stream",
     "text": [
      "C:\\Users\\HP\\AppData\\Local\\Temp\\ipykernel_10428\\4245690355.py:5: FutureWarning: A value is trying to be set on a copy of a DataFrame or Series through chained assignment using an inplace method.\n",
      "The behavior will change in pandas 3.0. This inplace method will never work because the intermediate object on which we are setting values always behaves as a copy.\n",
      "\n",
      "For example, when doing 'df[col].method(value, inplace=True)', try using 'df.method({col: value}, inplace=True)' or df[col] = df[col].method(value) instead, to perform the operation inplace on the original object.\n",
      "\n",
      "\n",
      "  df[i].fillna(mo,inplace=True)\n"
     ]
    }
   ],
   "source": [
    "categorical_null = [\"region\",\"color\"]\n",
    "\n",
    "for i in categorical_null:\n",
    "    mo = df[i].mode()[0]\n",
    "    df[i].fillna(mo,inplace=True)"
   ]
  },
  {
   "cell_type": "code",
   "execution_count": 32,
   "id": "770e507f",
   "metadata": {},
   "outputs": [
    {
     "data": {
      "text/plain": [
       "<Axes: xlabel='region'>"
      ]
     },
     "execution_count": 32,
     "metadata": {},
     "output_type": "execute_result"
    },
    {
     "data": {
      "image/png": "[encoded data removed]",
      "text/plain": [
       "<Figure size 640x480 with 1 Axes>"
      ]
     },
     "metadata": {},
     "output_type": "display_data"
    }
   ],
   "source": [
    "df[\"region\"].value_counts().plot(kind=\"bar\")"
   ]
  },
  {
   "cell_type": "code",
   "execution_count": null,
   "id": "1951a8b0",
   "metadata": {},
   "outputs": [],
   "source": []
  },
  {
   "cell_type": "code",
   "execution_count": null,
   "id": "caab9bb1",
   "metadata": {},
   "outputs": [
    {
     "data": {
      "text/plain": [
       "array(['Bordeaux', 'Rioja', 'Tuscany', 'Napa'], dtype=object)"
      ]
     },
     "execution_count": 71,
     "metadata": {},
     "output_type": "execute_result"
    }
   ],
   "source": [
    "df[\"region\"].unique()"
   ]
  },
  {
   "cell_type": "code",
   "execution_count": null,
   "id": "f72508e5",
   "metadata": {},
   "outputs": [
    {
     "data": {
      "text/plain": [
       "Unnamed: 0              0\n",
       "fixed_acidity           0\n",
       "volatile_acidity        0\n",
       "citric_acid             0\n",
       "residual_sugar          0\n",
       "chlorides               0\n",
       "free_sulfur_dioxide     0\n",
       "total_sulfur_dioxide    0\n",
       "density                 0\n",
       "pH                      0\n",
       "sulphates               0\n",
       "color                   0\n",
       "region                  0\n",
       "grape_variety           0\n",
       "vintage_year            0\n",
       "quality                 0\n",
       "dtype: int64"
      ]
     },
     "execution_count": 72,
     "metadata": {},
     "output_type": "execute_result"
    }
   ],
   "source": [
    "df.isnull().sum()"
   ]
  },
  {
   "cell_type": "code",
   "execution_count": null,
   "id": "c2d7307f",
   "metadata": {},
   "outputs": [
    {
     "data": {
      "text/plain": [
       "0"
      ]
     },
     "execution_count": 77,
     "metadata": {},
     "output_type": "execute_result"
    }
   ],
   "source": [
    "df.duplicated().sum()"
   ]
  },
  {
   "cell_type": "code",
   "execution_count": null,
   "id": "a8c246b9",
   "metadata": {},
   "outputs": [],
   "source": [
    "df.drop_duplicates(inplace=True)"
   ]
  },
  {
   "cell_type": "code",
   "execution_count": null,
   "id": "bd2c5172",
   "metadata": {},
   "outputs": [
    {
     "name": "stdout",
     "output_type": "stream",
     "text": [
      "<class 'pandas.core.frame.DataFrame'>\n",
      "RangeIndex: 100000 entries, 0 to 99999\n",
      "Data columns (total 16 columns):\n",
      " #   Column                Non-Null Count   Dtype  \n",
      "---  ------                --------------   -----  \n",
      " 0   Unnamed: 0            100000 non-null  int64  \n",
      " 1   fixed_acidity         100000 non-null  float64\n",
      " 2   volatile_acidity      100000 non-null  float64\n",
      " 3   citric_acid           100000 non-null  float64\n",
      " 4   residual_sugar        100000 non-null  float64\n",
      " 5   chlorides             100000 non-null  float64\n",
      " 6   free_sulfur_dioxide   100000 non-null  float64\n",
      " 7   total_sulfur_dioxide  100000 non-null  float64\n",
      " 8   density               100000 non-null  float64\n",
      " 9   pH                    100000 non-null  float64\n",
      " 10  sulphates             100000 non-null  float64\n",
      " 11  color                 100000 non-null  object \n",
      " 12  region                100000 non-null  object \n",
      " 13  grape_variety         100000 non-null  object \n",
      " 14  vintage_year          100000 non-null  int64  \n",
      " 15  quality               100000 non-null  object \n",
      "dtypes: float64(10), int64(2), object(4)\n",
      "memory usage: 12.2+ MB\n"
     ]
    }
   ],
   "source": [
    "df.info()"
   ]
  },
  {
   "cell_type": "code",
   "execution_count": null,
   "id": "63626fa6",
   "metadata": {},
   "outputs": [],
   "source": [
    "df.hist(data=df,x=)"
   ]
  },
  {
   "cell_type": "code",
   "execution_count": null,
   "id": "c469e16d",
   "metadata": {},
   "outputs": [
    {
     "data": {
      "text/html": [
       "<div>\n",
       "<style scoped>\n",
       "    .dataframe tbody tr th:only-of-type {\n",
       "        vertical-align: middle;\n",
       "    }\n",
       "\n",
       "    .dataframe tbody tr th {\n",
       "        vertical-align: top;\n",
       "    }\n",
       "\n",
       "    .dataframe thead th {\n",
       "        text-align: right;\n",
       "    }\n",
       "</style>\n",
       "<table border=\"1\" class=\"dataframe\">\n",
       "  <thead>\n",
       "    <tr style=\"text-align: right;\">\n",
       "      <th></th>\n",
       "      <th>fixed acidity</th>\n",
       "      <th>volatile acidity</th>\n",
       "      <th>citric acid</th>\n",
       "      <th>residual sugar</th>\n",
       "      <th>chlorides</th>\n",
       "      <th>free sulfur dioxide</th>\n",
       "      <th>total sulfur dioxide</th>\n",
       "      <th>density</th>\n",
       "      <th>pH</th>\n",
       "      <th>sulphates</th>\n",
       "      <th>alcohol</th>\n",
       "      <th>quality</th>\n",
       "    </tr>\n",
       "  </thead>\n",
       "  <tbody>\n",
       "    <tr>\n",
       "      <th>count</th>\n",
       "      <td>1359.000000</td>\n",
       "      <td>1359.000000</td>\n",
       "      <td>1359.000000</td>\n",
       "      <td>1359.000000</td>\n",
       "      <td>1359.000000</td>\n",
       "      <td>1359.000000</td>\n",
       "      <td>1359.000000</td>\n",
       "      <td>1359.000000</td>\n",
       "      <td>1359.000000</td>\n",
       "      <td>1359.000000</td>\n",
       "      <td>1359.000000</td>\n",
       "      <td>1359.000000</td>\n",
       "    </tr>\n",
       "    <tr>\n",
       "      <th>mean</th>\n",
       "      <td>8.310596</td>\n",
       "      <td>0.529478</td>\n",
       "      <td>0.272333</td>\n",
       "      <td>2.523400</td>\n",
       "      <td>0.088124</td>\n",
       "      <td>15.893304</td>\n",
       "      <td>46.825975</td>\n",
       "      <td>0.996709</td>\n",
       "      <td>3.309787</td>\n",
       "      <td>0.658705</td>\n",
       "      <td>10.432315</td>\n",
       "      <td>5.623252</td>\n",
       "    </tr>\n",
       "    <tr>\n",
       "      <th>std</th>\n",
       "      <td>1.736990</td>\n",
       "      <td>0.183031</td>\n",
       "      <td>0.195537</td>\n",
       "      <td>1.352314</td>\n",
       "      <td>0.049377</td>\n",
       "      <td>10.447270</td>\n",
       "      <td>33.408946</td>\n",
       "      <td>0.001869</td>\n",
       "      <td>0.155036</td>\n",
       "      <td>0.170667</td>\n",
       "      <td>1.082065</td>\n",
       "      <td>0.823578</td>\n",
       "    </tr>\n",
       "    <tr>\n",
       "      <th>min</th>\n",
       "      <td>4.600000</td>\n",
       "      <td>0.120000</td>\n",
       "      <td>0.000000</td>\n",
       "      <td>0.900000</td>\n",
       "      <td>0.012000</td>\n",
       "      <td>1.000000</td>\n",
       "      <td>6.000000</td>\n",
       "      <td>0.990070</td>\n",
       "      <td>2.740000</td>\n",
       "      <td>0.330000</td>\n",
       "      <td>8.400000</td>\n",
       "      <td>3.000000</td>\n",
       "    </tr>\n",
       "    <tr>\n",
       "      <th>25%</th>\n",
       "      <td>7.100000</td>\n",
       "      <td>0.390000</td>\n",
       "      <td>0.090000</td>\n",
       "      <td>1.900000</td>\n",
       "      <td>0.070000</td>\n",
       "      <td>7.000000</td>\n",
       "      <td>22.000000</td>\n",
       "      <td>0.995600</td>\n",
       "      <td>3.210000</td>\n",
       "      <td>0.550000</td>\n",
       "      <td>9.500000</td>\n",
       "      <td>5.000000</td>\n",
       "    </tr>\n",
       "    <tr>\n",
       "      <th>50%</th>\n",
       "      <td>7.900000</td>\n",
       "      <td>0.520000</td>\n",
       "      <td>0.260000</td>\n",
       "      <td>2.200000</td>\n",
       "      <td>0.079000</td>\n",
       "      <td>14.000000</td>\n",
       "      <td>38.000000</td>\n",
       "      <td>0.996700</td>\n",
       "      <td>3.310000</td>\n",
       "      <td>0.620000</td>\n",
       "      <td>10.200000</td>\n",
       "      <td>6.000000</td>\n",
       "    </tr>\n",
       "    <tr>\n",
       "      <th>75%</th>\n",
       "      <td>9.200000</td>\n",
       "      <td>0.640000</td>\n",
       "      <td>0.430000</td>\n",
       "      <td>2.600000</td>\n",
       "      <td>0.091000</td>\n",
       "      <td>21.000000</td>\n",
       "      <td>63.000000</td>\n",
       "      <td>0.997820</td>\n",
       "      <td>3.400000</td>\n",
       "      <td>0.730000</td>\n",
       "      <td>11.100000</td>\n",
       "      <td>6.000000</td>\n",
       "    </tr>\n",
       "    <tr>\n",
       "      <th>max</th>\n",
       "      <td>15.900000</td>\n",
       "      <td>1.580000</td>\n",
       "      <td>1.000000</td>\n",
       "      <td>15.500000</td>\n",
       "      <td>0.611000</td>\n",
       "      <td>72.000000</td>\n",
       "      <td>289.000000</td>\n",
       "      <td>1.003690</td>\n",
       "      <td>4.010000</td>\n",
       "      <td>2.000000</td>\n",
       "      <td>14.900000</td>\n",
       "      <td>8.000000</td>\n",
       "    </tr>\n",
       "  </tbody>\n",
       "</table>\n",
       "</div>"
      ],
      "text/plain": [
       "       fixed acidity  volatile acidity  citric acid  residual sugar  \\\n",
       "count    1359.000000       1359.000000  1359.000000     1359.000000   \n",
       "mean        8.310596          0.529478     0.272333        2.523400   \n",
       "std         1.736990          0.183031     0.195537        1.352314   \n",
       "min         4.600000          0.120000     0.000000        0.900000   \n",
       "25%         7.100000          0.390000     0.090000        1.900000   \n",
       "50%         7.900000          0.520000     0.260000        2.200000   \n",
       "75%         9.200000          0.640000     0.430000        2.600000   \n",
       "max        15.900000          1.580000     1.000000       15.500000   \n",
       "\n",
       "         chlorides  free sulfur dioxide  total sulfur dioxide      density  \\\n",
       "count  1359.000000          1359.000000           1359.000000  1359.000000   \n",
       "mean      0.088124            15.893304             46.825975     0.996709   \n",
       "std       0.049377            10.447270             33.408946     0.001869   \n",
       "min       0.012000             1.000000              6.000000     0.990070   \n",
       "25%       0.070000             7.000000             22.000000     0.995600   \n",
       "50%       0.079000            14.000000             38.000000     0.996700   \n",
       "75%       0.091000            21.000000             63.000000     0.997820   \n",
       "max       0.611000            72.000000            289.000000     1.003690   \n",
       "\n",
       "                pH    sulphates      alcohol      quality  \n",
       "count  1359.000000  1359.000000  1359.000000  1359.000000  \n",
       "mean      3.309787     0.658705    10.432315     5.623252  \n",
       "std       0.155036     0.170667     1.082065     0.823578  \n",
       "min       2.740000     0.330000     8.400000     3.000000  \n",
       "25%       3.210000     0.550000     9.500000     5.000000  \n",
       "50%       3.310000     0.620000    10.200000     6.000000  \n",
       "75%       3.400000     0.730000    11.100000     6.000000  \n",
       "max       4.010000     2.000000    14.900000     8.000000  "
      ]
     },
     "execution_count": 24,
     "metadata": {},
     "output_type": "execute_result"
    }
   ],
   "source": [
    "df.describe()"
   ]
  },
  {
   "cell_type": "code",
   "execution_count": null,
   "id": "5b6b0491",
   "metadata": {},
   "outputs": [],
   "source": [
    "df[]"
   ]
  },
  {
   "cell_type": "code",
   "execution_count": null,
   "id": "4eb61a17",
   "metadata": {},
   "outputs": [
    {
     "data": {
      "image/png": "[encoded data removed]",
      "text/plain": [
       "<Figure size 640x480 with 1 Axes>"
      ]
     },
     "metadata": {},
     "output_type": "display_data"
    }
   ],
   "source": [
    "\n",
    "sns.boxplot(data=df, x='alcohol', y='pH')\n",
    "plt.show()"
   ]
  },
  {
   "cell_type": "code",
   "execution_count": null,
   "id": "81ef821e",
   "metadata": {},
   "outputs": [],
   "source": []
  }
 ],
 "metadata": {
  "kernelspec": {
   "display_name": "base",
   "language": "python",
   "name": "python3"
  },
  "language_info": {
   "codemirror_mode": {
    "name": "ipython",
    "version": 3
   },
   "file_extension": ".py",
   "mimetype": "text/x-python",
   "name": "python",
   "nbconvert_exporter": "python",
   "pygments_lexer": "ipython3",
   "version": "3.12.7"
  }
 },
 "nbformat": 4,
 "nbformat_minor": 5
}
